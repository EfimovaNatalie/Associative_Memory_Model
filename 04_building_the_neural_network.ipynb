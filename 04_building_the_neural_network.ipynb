{
  "cells": [
    {
      "cell_type": "markdown",
      "metadata": {
        "id": "S63oBVRVTCSt"
      },
      "source": [
        "# Build the Neural Network\n",
        "\n",
        "Neural networks comprise of layers/modules that perform operations on data.\n",
        "The [torch.nn](https://pytorch.org/docs/stable/nn.html) namespace provides all the building blocks you need to\n",
        "build your own neural network. Every module in PyTorch subclasses the [nn.Module](https://pytorch.org/docs/stable/generated/torch.nn.Module.html).\n",
        "A neural network is a module itself that consists of other modules (layers). This nested structure allows for\n",
        "building and managing complex architectures easily.\n",
        "\n",
        "In the following sections, we'll build a neural network to classify images in the FashionMNIST dataset.\n"
      ]
    },
    {
      "cell_type": "code",
      "execution_count": 1,
      "metadata": {
        "id": "Wd9OuNYBTCSu"
      },
      "outputs": [],
      "source": [
        "import os\n",
        "import torch\n",
        "from torch import nn\n",
        "from torch.utils.data import DataLoader\n",
        "from torchvision import datasets, transforms"
      ]
    },
    {
      "cell_type": "markdown",
      "metadata": {
        "id": "tMQuouK1TCSv"
      },
      "source": [
        "## Get Device for Training\n",
        "We want to be able to train our model on a hardware accelerator like the GPU or MPS,\n",
        "if available. Let's check to see if [torch.cuda](https://pytorch.org/docs/stable/notes/cuda.html)\n",
        "or [torch.backends.mps](https://pytorch.org/docs/stable/notes/mps.html) are available, otherwise we use the CPU.\n",
        "\n"
      ]
    },
    {
      "cell_type": "code",
      "execution_count": 2,
      "metadata": {
        "id": "Ox-XQTqRTCSv",
        "outputId": "81a9a988-9216-42c5-ca93-59dcdb89f1bd",
        "colab": {
          "base_uri": "https://localhost:8080/"
        }
      },
      "outputs": [
        {
          "output_type": "stream",
          "name": "stdout",
          "text": [
            "Using cpu device\n"
          ]
        }
      ],
      "source": [
        "device = (\n",
        "    \"cuda\"\n",
        "    if torch.cuda.is_available()\n",
        "    else \"mps\"\n",
        "    if torch.backends.mps.is_available()\n",
        "    else \"cpu\"\n",
        ")\n",
        "print(f\"Using {device} device\")"
      ]
    },
    {
      "cell_type": "markdown",
      "metadata": {
        "id": "L2LAng2vTCSv"
      },
      "source": [
        "## Define the Class\n",
        "We define our neural network by subclassing ``nn.Module``, and\n",
        "initialize the neural network layers in ``__init__``. Every ``nn.Module`` subclass implements\n",
        "the operations on input data in the ``forward`` method.\n",
        "\n"
      ]
    },
    {
      "cell_type": "code",
      "execution_count": 3,
      "metadata": {
        "id": "4RAizBTRTCSw"
      },
      "outputs": [],
      "source": [
        "class NeuralNetwork(nn.Module):\n",
        "    def __init__(self):\n",
        "        super().__init__()\n",
        "        self.flatten = nn.Flatten()\n",
        "        self.linear_relu_stack = nn.Sequential(\n",
        "            nn.Linear(28*28, 512),\n",
        "            nn.ReLU(),\n",
        "            nn.Linear(512, 512),\n",
        "            nn.ReLU(),\n",
        "            nn.Linear(512, 10),\n",
        "        )\n",
        "\n",
        "    def forward(self, x):\n",
        "        x = self.flatten(x)\n",
        "        logits = self.linear_relu_stack(x)\n",
        "        return logits"
      ]
    },
    {
      "cell_type": "markdown",
      "metadata": {
        "id": "ptcVtRufTCSw"
      },
      "source": [
        "We create an instance of ``NeuralNetwork``, and move it to the ``device``, and print\n",
        "its structure.\n",
        "\n"
      ]
    },
    {
      "cell_type": "code",
      "execution_count": 4,
      "metadata": {
        "id": "XPyuoWb2TCSx",
        "outputId": "5a179775-6812-4903-bfb7-aec97974127f",
        "colab": {
          "base_uri": "https://localhost:8080/"
        }
      },
      "outputs": [
        {
          "output_type": "stream",
          "name": "stdout",
          "text": [
            "NeuralNetwork(\n",
            "  (flatten): Flatten(start_dim=1, end_dim=-1)\n",
            "  (linear_relu_stack): Sequential(\n",
            "    (0): Linear(in_features=784, out_features=512, bias=True)\n",
            "    (1): ReLU()\n",
            "    (2): Linear(in_features=512, out_features=512, bias=True)\n",
            "    (3): ReLU()\n",
            "    (4): Linear(in_features=512, out_features=10, bias=True)\n",
            "  )\n",
            ")\n"
          ]
        }
      ],
      "source": [
        "model = NeuralNetwork().to(device)\n",
        "print(model)"
      ]
    },
    {
      "cell_type": "markdown",
      "metadata": {
        "id": "3KZCcZKcTCSx"
      },
      "source": [
        "To use the model, we pass it the input data. This executes the model's ``forward``,\n",
        "along with some [background operations](https://github.com/pytorch/pytorch/blob/270111b7b611d174967ed204776985cefca9c144/torch/nn/modules/module.py#L866).\n",
        "Do not call ``model.forward()`` directly!\n",
        "\n",
        "Calling the model on the input returns a 2-dimensional tensor with dim=0 corresponding to each output of 10 raw predicted values for each class, and dim=1 corresponding to the individual values of each output.\n",
        "We get the prediction probabilities by passing it through an instance of the ``nn.Softmax`` module.\n",
        "\n"
      ]
    },
    {
      "cell_type": "code",
      "execution_count": 5,
      "metadata": {
        "id": "b4dXqu7sTCSx",
        "outputId": "456c2ae4-61e8-4783-a939-a3b6e77c1ca1",
        "colab": {
          "base_uri": "https://localhost:8080/"
        }
      },
      "outputs": [
        {
          "output_type": "stream",
          "name": "stdout",
          "text": [
            "Predicted class: tensor([1])\n"
          ]
        }
      ],
      "source": [
        "X = torch.rand(1, 28, 28, device=device)\n",
        "logits = model(X)\n",
        "pred_probab = nn.Softmax(dim=1)(logits)\n",
        "y_pred = pred_probab.argmax(1)\n",
        "print(f\"Predicted class: {y_pred}\")"
      ]
    },
    {
      "cell_type": "markdown",
      "metadata": {
        "id": "uUP3GHRZTCSx"
      },
      "source": [
        "--------------\n",
        "\n",
        "\n"
      ]
    },
    {
      "cell_type": "markdown",
      "metadata": {
        "id": "pAtGBeKpTCSx"
      },
      "source": [
        "## Model Layers\n",
        "\n",
        "Let's break down the layers in the FashionMNIST model. To illustrate it, we\n",
        "will take a sample minibatch of 3 images of size 28x28 and see what happens to it as\n",
        "we pass it through the network.\n",
        "\n"
      ]
    },
    {
      "cell_type": "code",
      "execution_count": 6,
      "metadata": {
        "id": "VCknIUTBTCSy",
        "outputId": "498a420c-dbca-4a84-d8b1-f8369bb3bbf3",
        "colab": {
          "base_uri": "https://localhost:8080/"
        }
      },
      "outputs": [
        {
          "output_type": "stream",
          "name": "stdout",
          "text": [
            "torch.Size([3, 28, 28])\n"
          ]
        }
      ],
      "source": [
        "input_image = torch.rand(3,28,28)\n",
        "print(input_image.size())"
      ]
    },
    {
      "cell_type": "markdown",
      "metadata": {
        "id": "7ebTG4LjTCSy"
      },
      "source": [
        "### nn.Flatten\n",
        "We initialize the [nn.Flatten](https://pytorch.org/docs/stable/generated/torch.nn.Flatten.html)\n",
        "layer to convert each 2D 28x28 image into a contiguous array of 784 pixel values (\n",
        "the minibatch dimension (at dim=0) is maintained).\n",
        "\n"
      ]
    },
    {
      "cell_type": "code",
      "execution_count": 7,
      "metadata": {
        "id": "Esji7YYjTCSy",
        "outputId": "6a7523a2-12d1-47d8-dfd7-2d8a7ef4526e",
        "colab": {
          "base_uri": "https://localhost:8080/"
        }
      },
      "outputs": [
        {
          "output_type": "stream",
          "name": "stdout",
          "text": [
            "torch.Size([3, 784])\n"
          ]
        }
      ],
      "source": [
        "flatten = nn.Flatten()\n",
        "flat_image = flatten(input_image)\n",
        "print(flat_image.size())"
      ]
    },
    {
      "cell_type": "markdown",
      "metadata": {
        "id": "FRTFwcpNTCSy"
      },
      "source": [
        "### nn.Linear\n",
        "The [linear layer](https://pytorch.org/docs/stable/generated/torch.nn.Linear.html)\n",
        "is a module that applies a linear transformation on the input using its stored weights and biases.\n",
        "\n",
        "\n"
      ]
    },
    {
      "cell_type": "code",
      "execution_count": 8,
      "metadata": {
        "id": "veW_MbfOTCSy",
        "outputId": "5b7674c1-2b4f-4331-f9ec-070a718f52fe",
        "colab": {
          "base_uri": "https://localhost:8080/"
        }
      },
      "outputs": [
        {
          "output_type": "stream",
          "name": "stdout",
          "text": [
            "torch.Size([3, 20])\n"
          ]
        }
      ],
      "source": [
        "layer1 = nn.Linear(in_features=28*28, out_features=20)\n",
        "hidden1 = layer1(flat_image)\n",
        "print(hidden1.size())"
      ]
    },
    {
      "cell_type": "markdown",
      "metadata": {
        "id": "mdvtRgXyTCSy"
      },
      "source": [
        "### nn.ReLU\n",
        "Non-linear activations are what create the complex mappings between the model's inputs and outputs.\n",
        "They are applied after linear transformations to introduce *nonlinearity*, helping neural networks\n",
        "learn a wide variety of phenomena.\n",
        "\n",
        "In this model, we use [nn.ReLU](https://pytorch.org/docs/stable/generated/torch.nn.ReLU.html) between our\n",
        "linear layers, but there's other activations to introduce non-linearity in your model.\n",
        "\n"
      ]
    },
    {
      "cell_type": "code",
      "execution_count": 9,
      "metadata": {
        "id": "tqGCrjDWTCSy",
        "outputId": "f488a7c8-e1f7-4f0c-e110-f6e889471f87",
        "colab": {
          "base_uri": "https://localhost:8080/"
        }
      },
      "outputs": [
        {
          "output_type": "stream",
          "name": "stdout",
          "text": [
            "Before ReLU: tensor([[ 0.4387,  0.0422,  0.3340,  0.1999, -0.0856,  0.0190, -0.2082,  0.2719,\n",
            "          0.1175,  0.4568,  0.1656, -0.5461,  0.3359, -0.6874, -0.3971, -0.2827,\n",
            "          0.2984, -0.6999,  0.3535, -0.3652],\n",
            "        [ 0.4725, -0.1478,  0.0040,  0.6838, -0.1507,  0.0577, -0.2748,  0.0452,\n",
            "          0.1692,  0.6471, -0.1331, -0.4224,  0.5289, -0.6275, -0.3083, -0.0590,\n",
            "          0.1491, -0.4501,  0.8443, -0.4253],\n",
            "        [ 0.4275, -0.0451,  0.1874,  0.0322, -0.0997, -0.0798, -0.3442,  0.2325,\n",
            "          0.0710,  0.3824,  0.0549, -0.2969,  0.1137, -0.5548, -0.4285,  0.1525,\n",
            "          0.2532, -0.3070,  0.6599, -0.3757]], grad_fn=<AddmmBackward0>)\n",
            "\n",
            "\n",
            "After ReLU: tensor([[0.4387, 0.0422, 0.3340, 0.1999, 0.0000, 0.0190, 0.0000, 0.2719, 0.1175,\n",
            "         0.4568, 0.1656, 0.0000, 0.3359, 0.0000, 0.0000, 0.0000, 0.2984, 0.0000,\n",
            "         0.3535, 0.0000],\n",
            "        [0.4725, 0.0000, 0.0040, 0.6838, 0.0000, 0.0577, 0.0000, 0.0452, 0.1692,\n",
            "         0.6471, 0.0000, 0.0000, 0.5289, 0.0000, 0.0000, 0.0000, 0.1491, 0.0000,\n",
            "         0.8443, 0.0000],\n",
            "        [0.4275, 0.0000, 0.1874, 0.0322, 0.0000, 0.0000, 0.0000, 0.2325, 0.0710,\n",
            "         0.3824, 0.0549, 0.0000, 0.1137, 0.0000, 0.0000, 0.1525, 0.2532, 0.0000,\n",
            "         0.6599, 0.0000]], grad_fn=<ReluBackward0>)\n"
          ]
        }
      ],
      "source": [
        "print(f\"Before ReLU: {hidden1}\\n\\n\")\n",
        "hidden1 = nn.ReLU()(hidden1)\n",
        "print(f\"After ReLU: {hidden1}\")"
      ]
    },
    {
      "cell_type": "markdown",
      "metadata": {
        "id": "8VwVkLgTTCSz"
      },
      "source": [
        "### nn.Sequential\n",
        "[nn.Sequential](https://pytorch.org/docs/stable/generated/torch.nn.Sequential.html) is an ordered\n",
        "container of modules. The data is passed through all the modules in the same order as defined. You can use\n",
        "sequential containers to put together a quick network like ``seq_modules``.\n",
        "\n"
      ]
    },
    {
      "cell_type": "code",
      "execution_count": 10,
      "metadata": {
        "id": "TTFrFzrCTCSz"
      },
      "outputs": [],
      "source": [
        "seq_modules = nn.Sequential(\n",
        "    flatten,\n",
        "    layer1,\n",
        "    nn.ReLU(),\n",
        "    nn.Linear(20, 10)\n",
        ")\n",
        "input_image = torch.rand(3,28,28)\n",
        "logits = seq_modules(input_image)"
      ]
    },
    {
      "cell_type": "markdown",
      "metadata": {
        "id": "QDffnSxUTCSz"
      },
      "source": [
        "### nn.Softmax\n",
        "The last linear layer of the neural network returns `logits` - raw values in [-\\infty, \\infty] - which are passed to the\n",
        "[nn.Softmax](https://pytorch.org/docs/stable/generated/torch.nn.Softmax.html) module. The logits are scaled to values\n",
        "[0, 1] representing the model's predicted probabilities for each class. ``dim`` parameter indicates the dimension along\n",
        "which the values must sum to 1.\n",
        "\n"
      ]
    },
    {
      "cell_type": "code",
      "execution_count": 11,
      "metadata": {
        "id": "dCx9SvGETCSz"
      },
      "outputs": [],
      "source": [
        "softmax = nn.Softmax(dim=1)\n",
        "pred_probab = softmax(logits)"
      ]
    },
    {
      "cell_type": "markdown",
      "metadata": {
        "id": "yte9h43STCSz"
      },
      "source": [
        "## Model Parameters\n",
        "Many layers inside a neural network are *parameterized*, i.e. have associated weights\n",
        "and biases that are optimized during training. Subclassing ``nn.Module`` automatically\n",
        "tracks all fields defined inside your model object, and makes all parameters\n",
        "accessible using your model's ``parameters()`` or ``named_parameters()`` methods.\n",
        "\n",
        "In this example, we iterate over each parameter, and print its size and a preview of its values.\n",
        "\n",
        "\n"
      ]
    },
    {
      "cell_type": "code",
      "execution_count": 12,
      "metadata": {
        "id": "Fpm2wYj_TCSz",
        "outputId": "141d9ab2-7944-4418-fa70-74058240692d",
        "colab": {
          "base_uri": "https://localhost:8080/"
        }
      },
      "outputs": [
        {
          "output_type": "stream",
          "name": "stdout",
          "text": [
            "Model structure: NeuralNetwork(\n",
            "  (flatten): Flatten(start_dim=1, end_dim=-1)\n",
            "  (linear_relu_stack): Sequential(\n",
            "    (0): Linear(in_features=784, out_features=512, bias=True)\n",
            "    (1): ReLU()\n",
            "    (2): Linear(in_features=512, out_features=512, bias=True)\n",
            "    (3): ReLU()\n",
            "    (4): Linear(in_features=512, out_features=10, bias=True)\n",
            "  )\n",
            ")\n",
            "\n",
            "\n",
            "Layer: linear_relu_stack.0.weight | Size: torch.Size([512, 784]) | Values : tensor([[ 0.0152,  0.0135,  0.0192,  ...,  0.0020,  0.0314,  0.0241],\n",
            "        [ 0.0303,  0.0352,  0.0191,  ...,  0.0153,  0.0019, -0.0002]],\n",
            "       grad_fn=<SliceBackward0>) \n",
            "\n",
            "Layer: linear_relu_stack.0.bias | Size: torch.Size([512]) | Values : tensor([ 0.0103, -0.0074], grad_fn=<SliceBackward0>) \n",
            "\n",
            "Layer: linear_relu_stack.2.weight | Size: torch.Size([512, 512]) | Values : tensor([[ 0.0032,  0.0105,  0.0315,  ..., -0.0143,  0.0045, -0.0321],\n",
            "        [ 0.0261, -0.0230,  0.0344,  ...,  0.0117, -0.0131,  0.0169]],\n",
            "       grad_fn=<SliceBackward0>) \n",
            "\n",
            "Layer: linear_relu_stack.2.bias | Size: torch.Size([512]) | Values : tensor([-0.0069,  0.0081], grad_fn=<SliceBackward0>) \n",
            "\n",
            "Layer: linear_relu_stack.4.weight | Size: torch.Size([10, 512]) | Values : tensor([[ 0.0079, -0.0130, -0.0155,  ..., -0.0088,  0.0205,  0.0145],\n",
            "        [-0.0421,  0.0036, -0.0090,  ...,  0.0118, -0.0181,  0.0135]],\n",
            "       grad_fn=<SliceBackward0>) \n",
            "\n",
            "Layer: linear_relu_stack.4.bias | Size: torch.Size([10]) | Values : tensor([-0.0335, -0.0044], grad_fn=<SliceBackward0>) \n",
            "\n"
          ]
        }
      ],
      "source": [
        "print(f\"Model structure: {model}\\n\\n\")\n",
        "\n",
        "for name, param in model.named_parameters():\n",
        "    print(f\"Layer: {name} | Size: {param.size()} | Values : {param[:2]} \\n\")"
      ]
    },
    {
      "cell_type": "markdown",
      "source": [
        "# Large Models\n",
        "\n",
        "The torchvision module provides a number of powerful pre-trained models. One example is ResNet-50 which is a popular model for computer vision. Let's examine the number and types of layers:"
      ],
      "metadata": {
        "id": "XS1_LivKnSai"
      }
    },
    {
      "cell_type": "code",
      "source": [
        "from torchvision import models\n",
        "from torchsummary import summary\n",
        "model = models.resnet50()\n",
        "summary(model, (3, 299, 299))"
      ],
      "metadata": {
        "id": "pUEr9gXgn32B",
        "outputId": "723187ff-0665-4594-e504-6f2173da8a6c",
        "colab": {
          "base_uri": "https://localhost:8080/"
        }
      },
      "execution_count": 13,
      "outputs": [
        {
          "output_type": "stream",
          "name": "stdout",
          "text": [
            "----------------------------------------------------------------\n",
            "        Layer (type)               Output Shape         Param #\n",
            "================================================================\n",
            "            Conv2d-1         [-1, 64, 150, 150]           9,408\n",
            "       BatchNorm2d-2         [-1, 64, 150, 150]             128\n",
            "              ReLU-3         [-1, 64, 150, 150]               0\n",
            "         MaxPool2d-4           [-1, 64, 75, 75]               0\n",
            "            Conv2d-5           [-1, 64, 75, 75]           4,096\n",
            "       BatchNorm2d-6           [-1, 64, 75, 75]             128\n",
            "              ReLU-7           [-1, 64, 75, 75]               0\n",
            "            Conv2d-8           [-1, 64, 75, 75]          36,864\n",
            "       BatchNorm2d-9           [-1, 64, 75, 75]             128\n",
            "             ReLU-10           [-1, 64, 75, 75]               0\n",
            "           Conv2d-11          [-1, 256, 75, 75]          16,384\n",
            "      BatchNorm2d-12          [-1, 256, 75, 75]             512\n",
            "           Conv2d-13          [-1, 256, 75, 75]          16,384\n",
            "      BatchNorm2d-14          [-1, 256, 75, 75]             512\n",
            "             ReLU-15          [-1, 256, 75, 75]               0\n",
            "       Bottleneck-16          [-1, 256, 75, 75]               0\n",
            "           Conv2d-17           [-1, 64, 75, 75]          16,384\n",
            "      BatchNorm2d-18           [-1, 64, 75, 75]             128\n",
            "             ReLU-19           [-1, 64, 75, 75]               0\n",
            "           Conv2d-20           [-1, 64, 75, 75]          36,864\n",
            "      BatchNorm2d-21           [-1, 64, 75, 75]             128\n",
            "             ReLU-22           [-1, 64, 75, 75]               0\n",
            "           Conv2d-23          [-1, 256, 75, 75]          16,384\n",
            "      BatchNorm2d-24          [-1, 256, 75, 75]             512\n",
            "             ReLU-25          [-1, 256, 75, 75]               0\n",
            "       Bottleneck-26          [-1, 256, 75, 75]               0\n",
            "           Conv2d-27           [-1, 64, 75, 75]          16,384\n",
            "      BatchNorm2d-28           [-1, 64, 75, 75]             128\n",
            "             ReLU-29           [-1, 64, 75, 75]               0\n",
            "           Conv2d-30           [-1, 64, 75, 75]          36,864\n",
            "      BatchNorm2d-31           [-1, 64, 75, 75]             128\n",
            "             ReLU-32           [-1, 64, 75, 75]               0\n",
            "           Conv2d-33          [-1, 256, 75, 75]          16,384\n",
            "      BatchNorm2d-34          [-1, 256, 75, 75]             512\n",
            "             ReLU-35          [-1, 256, 75, 75]               0\n",
            "       Bottleneck-36          [-1, 256, 75, 75]               0\n",
            "           Conv2d-37          [-1, 128, 75, 75]          32,768\n",
            "      BatchNorm2d-38          [-1, 128, 75, 75]             256\n",
            "             ReLU-39          [-1, 128, 75, 75]               0\n",
            "           Conv2d-40          [-1, 128, 38, 38]         147,456\n",
            "      BatchNorm2d-41          [-1, 128, 38, 38]             256\n",
            "             ReLU-42          [-1, 128, 38, 38]               0\n",
            "           Conv2d-43          [-1, 512, 38, 38]          65,536\n",
            "      BatchNorm2d-44          [-1, 512, 38, 38]           1,024\n",
            "           Conv2d-45          [-1, 512, 38, 38]         131,072\n",
            "      BatchNorm2d-46          [-1, 512, 38, 38]           1,024\n",
            "             ReLU-47          [-1, 512, 38, 38]               0\n",
            "       Bottleneck-48          [-1, 512, 38, 38]               0\n",
            "           Conv2d-49          [-1, 128, 38, 38]          65,536\n",
            "      BatchNorm2d-50          [-1, 128, 38, 38]             256\n",
            "             ReLU-51          [-1, 128, 38, 38]               0\n",
            "           Conv2d-52          [-1, 128, 38, 38]         147,456\n",
            "      BatchNorm2d-53          [-1, 128, 38, 38]             256\n",
            "             ReLU-54          [-1, 128, 38, 38]               0\n",
            "           Conv2d-55          [-1, 512, 38, 38]          65,536\n",
            "      BatchNorm2d-56          [-1, 512, 38, 38]           1,024\n",
            "             ReLU-57          [-1, 512, 38, 38]               0\n",
            "       Bottleneck-58          [-1, 512, 38, 38]               0\n",
            "           Conv2d-59          [-1, 128, 38, 38]          65,536\n",
            "      BatchNorm2d-60          [-1, 128, 38, 38]             256\n",
            "             ReLU-61          [-1, 128, 38, 38]               0\n",
            "           Conv2d-62          [-1, 128, 38, 38]         147,456\n",
            "      BatchNorm2d-63          [-1, 128, 38, 38]             256\n",
            "             ReLU-64          [-1, 128, 38, 38]               0\n",
            "           Conv2d-65          [-1, 512, 38, 38]          65,536\n",
            "      BatchNorm2d-66          [-1, 512, 38, 38]           1,024\n",
            "             ReLU-67          [-1, 512, 38, 38]               0\n",
            "       Bottleneck-68          [-1, 512, 38, 38]               0\n",
            "           Conv2d-69          [-1, 128, 38, 38]          65,536\n",
            "      BatchNorm2d-70          [-1, 128, 38, 38]             256\n",
            "             ReLU-71          [-1, 128, 38, 38]               0\n",
            "           Conv2d-72          [-1, 128, 38, 38]         147,456\n",
            "      BatchNorm2d-73          [-1, 128, 38, 38]             256\n",
            "             ReLU-74          [-1, 128, 38, 38]               0\n",
            "           Conv2d-75          [-1, 512, 38, 38]          65,536\n",
            "      BatchNorm2d-76          [-1, 512, 38, 38]           1,024\n",
            "             ReLU-77          [-1, 512, 38, 38]               0\n",
            "       Bottleneck-78          [-1, 512, 38, 38]               0\n",
            "           Conv2d-79          [-1, 256, 38, 38]         131,072\n",
            "      BatchNorm2d-80          [-1, 256, 38, 38]             512\n",
            "             ReLU-81          [-1, 256, 38, 38]               0\n",
            "           Conv2d-82          [-1, 256, 19, 19]         589,824\n",
            "      BatchNorm2d-83          [-1, 256, 19, 19]             512\n",
            "             ReLU-84          [-1, 256, 19, 19]               0\n",
            "           Conv2d-85         [-1, 1024, 19, 19]         262,144\n",
            "      BatchNorm2d-86         [-1, 1024, 19, 19]           2,048\n",
            "           Conv2d-87         [-1, 1024, 19, 19]         524,288\n",
            "      BatchNorm2d-88         [-1, 1024, 19, 19]           2,048\n",
            "             ReLU-89         [-1, 1024, 19, 19]               0\n",
            "       Bottleneck-90         [-1, 1024, 19, 19]               0\n",
            "           Conv2d-91          [-1, 256, 19, 19]         262,144\n",
            "      BatchNorm2d-92          [-1, 256, 19, 19]             512\n",
            "             ReLU-93          [-1, 256, 19, 19]               0\n",
            "           Conv2d-94          [-1, 256, 19, 19]         589,824\n",
            "      BatchNorm2d-95          [-1, 256, 19, 19]             512\n",
            "             ReLU-96          [-1, 256, 19, 19]               0\n",
            "           Conv2d-97         [-1, 1024, 19, 19]         262,144\n",
            "      BatchNorm2d-98         [-1, 1024, 19, 19]           2,048\n",
            "             ReLU-99         [-1, 1024, 19, 19]               0\n",
            "      Bottleneck-100         [-1, 1024, 19, 19]               0\n",
            "          Conv2d-101          [-1, 256, 19, 19]         262,144\n",
            "     BatchNorm2d-102          [-1, 256, 19, 19]             512\n",
            "            ReLU-103          [-1, 256, 19, 19]               0\n",
            "          Conv2d-104          [-1, 256, 19, 19]         589,824\n",
            "     BatchNorm2d-105          [-1, 256, 19, 19]             512\n",
            "            ReLU-106          [-1, 256, 19, 19]               0\n",
            "          Conv2d-107         [-1, 1024, 19, 19]         262,144\n",
            "     BatchNorm2d-108         [-1, 1024, 19, 19]           2,048\n",
            "            ReLU-109         [-1, 1024, 19, 19]               0\n",
            "      Bottleneck-110         [-1, 1024, 19, 19]               0\n",
            "          Conv2d-111          [-1, 256, 19, 19]         262,144\n",
            "     BatchNorm2d-112          [-1, 256, 19, 19]             512\n",
            "            ReLU-113          [-1, 256, 19, 19]               0\n",
            "          Conv2d-114          [-1, 256, 19, 19]         589,824\n",
            "     BatchNorm2d-115          [-1, 256, 19, 19]             512\n",
            "            ReLU-116          [-1, 256, 19, 19]               0\n",
            "          Conv2d-117         [-1, 1024, 19, 19]         262,144\n",
            "     BatchNorm2d-118         [-1, 1024, 19, 19]           2,048\n",
            "            ReLU-119         [-1, 1024, 19, 19]               0\n",
            "      Bottleneck-120         [-1, 1024, 19, 19]               0\n",
            "          Conv2d-121          [-1, 256, 19, 19]         262,144\n",
            "     BatchNorm2d-122          [-1, 256, 19, 19]             512\n",
            "            ReLU-123          [-1, 256, 19, 19]               0\n",
            "          Conv2d-124          [-1, 256, 19, 19]         589,824\n",
            "     BatchNorm2d-125          [-1, 256, 19, 19]             512\n",
            "            ReLU-126          [-1, 256, 19, 19]               0\n",
            "          Conv2d-127         [-1, 1024, 19, 19]         262,144\n",
            "     BatchNorm2d-128         [-1, 1024, 19, 19]           2,048\n",
            "            ReLU-129         [-1, 1024, 19, 19]               0\n",
            "      Bottleneck-130         [-1, 1024, 19, 19]               0\n",
            "          Conv2d-131          [-1, 256, 19, 19]         262,144\n",
            "     BatchNorm2d-132          [-1, 256, 19, 19]             512\n",
            "            ReLU-133          [-1, 256, 19, 19]               0\n",
            "          Conv2d-134          [-1, 256, 19, 19]         589,824\n",
            "     BatchNorm2d-135          [-1, 256, 19, 19]             512\n",
            "            ReLU-136          [-1, 256, 19, 19]               0\n",
            "          Conv2d-137         [-1, 1024, 19, 19]         262,144\n",
            "     BatchNorm2d-138         [-1, 1024, 19, 19]           2,048\n",
            "            ReLU-139         [-1, 1024, 19, 19]               0\n",
            "      Bottleneck-140         [-1, 1024, 19, 19]               0\n",
            "          Conv2d-141          [-1, 512, 19, 19]         524,288\n",
            "     BatchNorm2d-142          [-1, 512, 19, 19]           1,024\n",
            "            ReLU-143          [-1, 512, 19, 19]               0\n",
            "          Conv2d-144          [-1, 512, 10, 10]       2,359,296\n",
            "     BatchNorm2d-145          [-1, 512, 10, 10]           1,024\n",
            "            ReLU-146          [-1, 512, 10, 10]               0\n",
            "          Conv2d-147         [-1, 2048, 10, 10]       1,048,576\n",
            "     BatchNorm2d-148         [-1, 2048, 10, 10]           4,096\n",
            "          Conv2d-149         [-1, 2048, 10, 10]       2,097,152\n",
            "     BatchNorm2d-150         [-1, 2048, 10, 10]           4,096\n",
            "            ReLU-151         [-1, 2048, 10, 10]               0\n",
            "      Bottleneck-152         [-1, 2048, 10, 10]               0\n",
            "          Conv2d-153          [-1, 512, 10, 10]       1,048,576\n",
            "     BatchNorm2d-154          [-1, 512, 10, 10]           1,024\n",
            "            ReLU-155          [-1, 512, 10, 10]               0\n",
            "          Conv2d-156          [-1, 512, 10, 10]       2,359,296\n",
            "     BatchNorm2d-157          [-1, 512, 10, 10]           1,024\n",
            "            ReLU-158          [-1, 512, 10, 10]               0\n",
            "          Conv2d-159         [-1, 2048, 10, 10]       1,048,576\n",
            "     BatchNorm2d-160         [-1, 2048, 10, 10]           4,096\n",
            "            ReLU-161         [-1, 2048, 10, 10]               0\n",
            "      Bottleneck-162         [-1, 2048, 10, 10]               0\n",
            "          Conv2d-163          [-1, 512, 10, 10]       1,048,576\n",
            "     BatchNorm2d-164          [-1, 512, 10, 10]           1,024\n",
            "            ReLU-165          [-1, 512, 10, 10]               0\n",
            "          Conv2d-166          [-1, 512, 10, 10]       2,359,296\n",
            "     BatchNorm2d-167          [-1, 512, 10, 10]           1,024\n",
            "            ReLU-168          [-1, 512, 10, 10]               0\n",
            "          Conv2d-169         [-1, 2048, 10, 10]       1,048,576\n",
            "     BatchNorm2d-170         [-1, 2048, 10, 10]           4,096\n",
            "            ReLU-171         [-1, 2048, 10, 10]               0\n",
            "      Bottleneck-172         [-1, 2048, 10, 10]               0\n",
            "AdaptiveAvgPool2d-173           [-1, 2048, 1, 1]               0\n",
            "          Linear-174                 [-1, 1000]       2,049,000\n",
            "================================================================\n",
            "Total params: 25,557,032\n",
            "Trainable params: 25,557,032\n",
            "Non-trainable params: 0\n",
            "----------------------------------------------------------------\n",
            "Input size (MB): 1.02\n",
            "Forward/backward pass size (MB): 523.62\n",
            "Params size (MB): 97.49\n",
            "Estimated Total Size (MB): 622.14\n",
            "----------------------------------------------------------------\n"
          ]
        }
      ]
    },
    {
      "cell_type": "markdown",
      "source": [
        "If you encounter ``RuntimeError: Input type (torch.cuda.FloatTensor) and weight type (torch.FloatTensor) should be the same`` then move the model to the GPU: ``summary(model.to(device), (3, 299, 299))``"
      ],
      "metadata": {
        "id": "rf2pqSi1didk"
      }
    },
    {
      "cell_type": "markdown",
      "source": [
        "You can also print the model:"
      ],
      "metadata": {
        "id": "IhMSKHtdn7HV"
      }
    },
    {
      "cell_type": "code",
      "source": [
        "print(model)"
      ],
      "metadata": {
        "id": "K-QMGvqWn-Z1",
        "outputId": "7ea233a4-be55-4889-fc18-aa70c54a5891",
        "colab": {
          "base_uri": "https://localhost:8080/"
        }
      },
      "execution_count": 14,
      "outputs": [
        {
          "output_type": "stream",
          "name": "stdout",
          "text": [
            "ResNet(\n",
            "  (conv1): Conv2d(3, 64, kernel_size=(7, 7), stride=(2, 2), padding=(3, 3), bias=False)\n",
            "  (bn1): BatchNorm2d(64, eps=1e-05, momentum=0.1, affine=True, track_running_stats=True)\n",
            "  (relu): ReLU(inplace=True)\n",
            "  (maxpool): MaxPool2d(kernel_size=3, stride=2, padding=1, dilation=1, ceil_mode=False)\n",
            "  (layer1): Sequential(\n",
            "    (0): Bottleneck(\n",
            "      (conv1): Conv2d(64, 64, kernel_size=(1, 1), stride=(1, 1), bias=False)\n",
            "      (bn1): BatchNorm2d(64, eps=1e-05, momentum=0.1, affine=True, track_running_stats=True)\n",
            "      (conv2): Conv2d(64, 64, kernel_size=(3, 3), stride=(1, 1), padding=(1, 1), bias=False)\n",
            "      (bn2): BatchNorm2d(64, eps=1e-05, momentum=0.1, affine=True, track_running_stats=True)\n",
            "      (conv3): Conv2d(64, 256, kernel_size=(1, 1), stride=(1, 1), bias=False)\n",
            "      (bn3): BatchNorm2d(256, eps=1e-05, momentum=0.1, affine=True, track_running_stats=True)\n",
            "      (relu): ReLU(inplace=True)\n",
            "      (downsample): Sequential(\n",
            "        (0): Conv2d(64, 256, kernel_size=(1, 1), stride=(1, 1), bias=False)\n",
            "        (1): BatchNorm2d(256, eps=1e-05, momentum=0.1, affine=True, track_running_stats=True)\n",
            "      )\n",
            "    )\n",
            "    (1): Bottleneck(\n",
            "      (conv1): Conv2d(256, 64, kernel_size=(1, 1), stride=(1, 1), bias=False)\n",
            "      (bn1): BatchNorm2d(64, eps=1e-05, momentum=0.1, affine=True, track_running_stats=True)\n",
            "      (conv2): Conv2d(64, 64, kernel_size=(3, 3), stride=(1, 1), padding=(1, 1), bias=False)\n",
            "      (bn2): BatchNorm2d(64, eps=1e-05, momentum=0.1, affine=True, track_running_stats=True)\n",
            "      (conv3): Conv2d(64, 256, kernel_size=(1, 1), stride=(1, 1), bias=False)\n",
            "      (bn3): BatchNorm2d(256, eps=1e-05, momentum=0.1, affine=True, track_running_stats=True)\n",
            "      (relu): ReLU(inplace=True)\n",
            "    )\n",
            "    (2): Bottleneck(\n",
            "      (conv1): Conv2d(256, 64, kernel_size=(1, 1), stride=(1, 1), bias=False)\n",
            "      (bn1): BatchNorm2d(64, eps=1e-05, momentum=0.1, affine=True, track_running_stats=True)\n",
            "      (conv2): Conv2d(64, 64, kernel_size=(3, 3), stride=(1, 1), padding=(1, 1), bias=False)\n",
            "      (bn2): BatchNorm2d(64, eps=1e-05, momentum=0.1, affine=True, track_running_stats=True)\n",
            "      (conv3): Conv2d(64, 256, kernel_size=(1, 1), stride=(1, 1), bias=False)\n",
            "      (bn3): BatchNorm2d(256, eps=1e-05, momentum=0.1, affine=True, track_running_stats=True)\n",
            "      (relu): ReLU(inplace=True)\n",
            "    )\n",
            "  )\n",
            "  (layer2): Sequential(\n",
            "    (0): Bottleneck(\n",
            "      (conv1): Conv2d(256, 128, kernel_size=(1, 1), stride=(1, 1), bias=False)\n",
            "      (bn1): BatchNorm2d(128, eps=1e-05, momentum=0.1, affine=True, track_running_stats=True)\n",
            "      (conv2): Conv2d(128, 128, kernel_size=(3, 3), stride=(2, 2), padding=(1, 1), bias=False)\n",
            "      (bn2): BatchNorm2d(128, eps=1e-05, momentum=0.1, affine=True, track_running_stats=True)\n",
            "      (conv3): Conv2d(128, 512, kernel_size=(1, 1), stride=(1, 1), bias=False)\n",
            "      (bn3): BatchNorm2d(512, eps=1e-05, momentum=0.1, affine=True, track_running_stats=True)\n",
            "      (relu): ReLU(inplace=True)\n",
            "      (downsample): Sequential(\n",
            "        (0): Conv2d(256, 512, kernel_size=(1, 1), stride=(2, 2), bias=False)\n",
            "        (1): BatchNorm2d(512, eps=1e-05, momentum=0.1, affine=True, track_running_stats=True)\n",
            "      )\n",
            "    )\n",
            "    (1): Bottleneck(\n",
            "      (conv1): Conv2d(512, 128, kernel_size=(1, 1), stride=(1, 1), bias=False)\n",
            "      (bn1): BatchNorm2d(128, eps=1e-05, momentum=0.1, affine=True, track_running_stats=True)\n",
            "      (conv2): Conv2d(128, 128, kernel_size=(3, 3), stride=(1, 1), padding=(1, 1), bias=False)\n",
            "      (bn2): BatchNorm2d(128, eps=1e-05, momentum=0.1, affine=True, track_running_stats=True)\n",
            "      (conv3): Conv2d(128, 512, kernel_size=(1, 1), stride=(1, 1), bias=False)\n",
            "      (bn3): BatchNorm2d(512, eps=1e-05, momentum=0.1, affine=True, track_running_stats=True)\n",
            "      (relu): ReLU(inplace=True)\n",
            "    )\n",
            "    (2): Bottleneck(\n",
            "      (conv1): Conv2d(512, 128, kernel_size=(1, 1), stride=(1, 1), bias=False)\n",
            "      (bn1): BatchNorm2d(128, eps=1e-05, momentum=0.1, affine=True, track_running_stats=True)\n",
            "      (conv2): Conv2d(128, 128, kernel_size=(3, 3), stride=(1, 1), padding=(1, 1), bias=False)\n",
            "      (bn2): BatchNorm2d(128, eps=1e-05, momentum=0.1, affine=True, track_running_stats=True)\n",
            "      (conv3): Conv2d(128, 512, kernel_size=(1, 1), stride=(1, 1), bias=False)\n",
            "      (bn3): BatchNorm2d(512, eps=1e-05, momentum=0.1, affine=True, track_running_stats=True)\n",
            "      (relu): ReLU(inplace=True)\n",
            "    )\n",
            "    (3): Bottleneck(\n",
            "      (conv1): Conv2d(512, 128, kernel_size=(1, 1), stride=(1, 1), bias=False)\n",
            "      (bn1): BatchNorm2d(128, eps=1e-05, momentum=0.1, affine=True, track_running_stats=True)\n",
            "      (conv2): Conv2d(128, 128, kernel_size=(3, 3), stride=(1, 1), padding=(1, 1), bias=False)\n",
            "      (bn2): BatchNorm2d(128, eps=1e-05, momentum=0.1, affine=True, track_running_stats=True)\n",
            "      (conv3): Conv2d(128, 512, kernel_size=(1, 1), stride=(1, 1), bias=False)\n",
            "      (bn3): BatchNorm2d(512, eps=1e-05, momentum=0.1, affine=True, track_running_stats=True)\n",
            "      (relu): ReLU(inplace=True)\n",
            "    )\n",
            "  )\n",
            "  (layer3): Sequential(\n",
            "    (0): Bottleneck(\n",
            "      (conv1): Conv2d(512, 256, kernel_size=(1, 1), stride=(1, 1), bias=False)\n",
            "      (bn1): BatchNorm2d(256, eps=1e-05, momentum=0.1, affine=True, track_running_stats=True)\n",
            "      (conv2): Conv2d(256, 256, kernel_size=(3, 3), stride=(2, 2), padding=(1, 1), bias=False)\n",
            "      (bn2): BatchNorm2d(256, eps=1e-05, momentum=0.1, affine=True, track_running_stats=True)\n",
            "      (conv3): Conv2d(256, 1024, kernel_size=(1, 1), stride=(1, 1), bias=False)\n",
            "      (bn3): BatchNorm2d(1024, eps=1e-05, momentum=0.1, affine=True, track_running_stats=True)\n",
            "      (relu): ReLU(inplace=True)\n",
            "      (downsample): Sequential(\n",
            "        (0): Conv2d(512, 1024, kernel_size=(1, 1), stride=(2, 2), bias=False)\n",
            "        (1): BatchNorm2d(1024, eps=1e-05, momentum=0.1, affine=True, track_running_stats=True)\n",
            "      )\n",
            "    )\n",
            "    (1): Bottleneck(\n",
            "      (conv1): Conv2d(1024, 256, kernel_size=(1, 1), stride=(1, 1), bias=False)\n",
            "      (bn1): BatchNorm2d(256, eps=1e-05, momentum=0.1, affine=True, track_running_stats=True)\n",
            "      (conv2): Conv2d(256, 256, kernel_size=(3, 3), stride=(1, 1), padding=(1, 1), bias=False)\n",
            "      (bn2): BatchNorm2d(256, eps=1e-05, momentum=0.1, affine=True, track_running_stats=True)\n",
            "      (conv3): Conv2d(256, 1024, kernel_size=(1, 1), stride=(1, 1), bias=False)\n",
            "      (bn3): BatchNorm2d(1024, eps=1e-05, momentum=0.1, affine=True, track_running_stats=True)\n",
            "      (relu): ReLU(inplace=True)\n",
            "    )\n",
            "    (2): Bottleneck(\n",
            "      (conv1): Conv2d(1024, 256, kernel_size=(1, 1), stride=(1, 1), bias=False)\n",
            "      (bn1): BatchNorm2d(256, eps=1e-05, momentum=0.1, affine=True, track_running_stats=True)\n",
            "      (conv2): Conv2d(256, 256, kernel_size=(3, 3), stride=(1, 1), padding=(1, 1), bias=False)\n",
            "      (bn2): BatchNorm2d(256, eps=1e-05, momentum=0.1, affine=True, track_running_stats=True)\n",
            "      (conv3): Conv2d(256, 1024, kernel_size=(1, 1), stride=(1, 1), bias=False)\n",
            "      (bn3): BatchNorm2d(1024, eps=1e-05, momentum=0.1, affine=True, track_running_stats=True)\n",
            "      (relu): ReLU(inplace=True)\n",
            "    )\n",
            "    (3): Bottleneck(\n",
            "      (conv1): Conv2d(1024, 256, kernel_size=(1, 1), stride=(1, 1), bias=False)\n",
            "      (bn1): BatchNorm2d(256, eps=1e-05, momentum=0.1, affine=True, track_running_stats=True)\n",
            "      (conv2): Conv2d(256, 256, kernel_size=(3, 3), stride=(1, 1), padding=(1, 1), bias=False)\n",
            "      (bn2): BatchNorm2d(256, eps=1e-05, momentum=0.1, affine=True, track_running_stats=True)\n",
            "      (conv3): Conv2d(256, 1024, kernel_size=(1, 1), stride=(1, 1), bias=False)\n",
            "      (bn3): BatchNorm2d(1024, eps=1e-05, momentum=0.1, affine=True, track_running_stats=True)\n",
            "      (relu): ReLU(inplace=True)\n",
            "    )\n",
            "    (4): Bottleneck(\n",
            "      (conv1): Conv2d(1024, 256, kernel_size=(1, 1), stride=(1, 1), bias=False)\n",
            "      (bn1): BatchNorm2d(256, eps=1e-05, momentum=0.1, affine=True, track_running_stats=True)\n",
            "      (conv2): Conv2d(256, 256, kernel_size=(3, 3), stride=(1, 1), padding=(1, 1), bias=False)\n",
            "      (bn2): BatchNorm2d(256, eps=1e-05, momentum=0.1, affine=True, track_running_stats=True)\n",
            "      (conv3): Conv2d(256, 1024, kernel_size=(1, 1), stride=(1, 1), bias=False)\n",
            "      (bn3): BatchNorm2d(1024, eps=1e-05, momentum=0.1, affine=True, track_running_stats=True)\n",
            "      (relu): ReLU(inplace=True)\n",
            "    )\n",
            "    (5): Bottleneck(\n",
            "      (conv1): Conv2d(1024, 256, kernel_size=(1, 1), stride=(1, 1), bias=False)\n",
            "      (bn1): BatchNorm2d(256, eps=1e-05, momentum=0.1, affine=True, track_running_stats=True)\n",
            "      (conv2): Conv2d(256, 256, kernel_size=(3, 3), stride=(1, 1), padding=(1, 1), bias=False)\n",
            "      (bn2): BatchNorm2d(256, eps=1e-05, momentum=0.1, affine=True, track_running_stats=True)\n",
            "      (conv3): Conv2d(256, 1024, kernel_size=(1, 1), stride=(1, 1), bias=False)\n",
            "      (bn3): BatchNorm2d(1024, eps=1e-05, momentum=0.1, affine=True, track_running_stats=True)\n",
            "      (relu): ReLU(inplace=True)\n",
            "    )\n",
            "  )\n",
            "  (layer4): Sequential(\n",
            "    (0): Bottleneck(\n",
            "      (conv1): Conv2d(1024, 512, kernel_size=(1, 1), stride=(1, 1), bias=False)\n",
            "      (bn1): BatchNorm2d(512, eps=1e-05, momentum=0.1, affine=True, track_running_stats=True)\n",
            "      (conv2): Conv2d(512, 512, kernel_size=(3, 3), stride=(2, 2), padding=(1, 1), bias=False)\n",
            "      (bn2): BatchNorm2d(512, eps=1e-05, momentum=0.1, affine=True, track_running_stats=True)\n",
            "      (conv3): Conv2d(512, 2048, kernel_size=(1, 1), stride=(1, 1), bias=False)\n",
            "      (bn3): BatchNorm2d(2048, eps=1e-05, momentum=0.1, affine=True, track_running_stats=True)\n",
            "      (relu): ReLU(inplace=True)\n",
            "      (downsample): Sequential(\n",
            "        (0): Conv2d(1024, 2048, kernel_size=(1, 1), stride=(2, 2), bias=False)\n",
            "        (1): BatchNorm2d(2048, eps=1e-05, momentum=0.1, affine=True, track_running_stats=True)\n",
            "      )\n",
            "    )\n",
            "    (1): Bottleneck(\n",
            "      (conv1): Conv2d(2048, 512, kernel_size=(1, 1), stride=(1, 1), bias=False)\n",
            "      (bn1): BatchNorm2d(512, eps=1e-05, momentum=0.1, affine=True, track_running_stats=True)\n",
            "      (conv2): Conv2d(512, 512, kernel_size=(3, 3), stride=(1, 1), padding=(1, 1), bias=False)\n",
            "      (bn2): BatchNorm2d(512, eps=1e-05, momentum=0.1, affine=True, track_running_stats=True)\n",
            "      (conv3): Conv2d(512, 2048, kernel_size=(1, 1), stride=(1, 1), bias=False)\n",
            "      (bn3): BatchNorm2d(2048, eps=1e-05, momentum=0.1, affine=True, track_running_stats=True)\n",
            "      (relu): ReLU(inplace=True)\n",
            "    )\n",
            "    (2): Bottleneck(\n",
            "      (conv1): Conv2d(2048, 512, kernel_size=(1, 1), stride=(1, 1), bias=False)\n",
            "      (bn1): BatchNorm2d(512, eps=1e-05, momentum=0.1, affine=True, track_running_stats=True)\n",
            "      (conv2): Conv2d(512, 512, kernel_size=(3, 3), stride=(1, 1), padding=(1, 1), bias=False)\n",
            "      (bn2): BatchNorm2d(512, eps=1e-05, momentum=0.1, affine=True, track_running_stats=True)\n",
            "      (conv3): Conv2d(512, 2048, kernel_size=(1, 1), stride=(1, 1), bias=False)\n",
            "      (bn3): BatchNorm2d(2048, eps=1e-05, momentum=0.1, affine=True, track_running_stats=True)\n",
            "      (relu): ReLU(inplace=True)\n",
            "    )\n",
            "  )\n",
            "  (avgpool): AdaptiveAvgPool2d(output_size=(1, 1))\n",
            "  (fc): Linear(in_features=2048, out_features=1000, bias=True)\n",
            ")\n"
          ]
        }
      ]
    },
    {
      "cell_type": "markdown",
      "source": [
        "# Exercise\n",
        "\n",
        "Choose another large model from the [torchvision library](https://pytorch.org/vision/stable/models.html#classification) and inspect the layers as was done above."
      ],
      "metadata": {
        "id": "yOmW6XaQnmFM"
      }
    },
    {
      "cell_type": "markdown",
      "metadata": {
        "id": "XO9zk2_XTCSz"
      },
      "source": [
        "--------------\n",
        "\n",
        "\n"
      ]
    },
    {
      "cell_type": "markdown",
      "metadata": {
        "id": "bmUSQUmYTCSz"
      },
      "source": [
        "## Further Reading\n",
        "- [torch.nn API](https://pytorch.org/docs/stable/nn.html)\n",
        "\n"
      ]
    }
  ],
  "metadata": {
    "kernelspec": {
      "display_name": "Python 3",
      "language": "python",
      "name": "python3"
    },
    "language_info": {
      "codemirror_mode": {
        "name": "ipython",
        "version": 3
      },
      "file_extension": ".py",
      "mimetype": "text/x-python",
      "name": "python",
      "nbconvert_exporter": "python",
      "pygments_lexer": "ipython3",
      "version": "3.10.13"
    },
    "colab": {
      "provenance": []
    }
  },
  "nbformat": 4,
  "nbformat_minor": 0
}